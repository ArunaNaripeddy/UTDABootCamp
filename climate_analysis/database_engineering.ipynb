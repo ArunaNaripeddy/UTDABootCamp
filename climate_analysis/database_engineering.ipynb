{
 "cells": [
  {
   "cell_type": "code",
   "execution_count": 1,
   "metadata": {},
   "outputs": [],
   "source": [
    "!rm Resources/hawaii.sqlite"
   ]
  },
  {
   "cell_type": "code",
   "execution_count": 2,
   "metadata": {},
   "outputs": [],
   "source": [
    "import pandas as pd\n",
    "from sqlalchemy import create_engine, inspect, func\n",
    "from sqlalchemy import Column, Integer, String, Float\n",
    "\n",
    "from sqlalchemy.ext.declarative import declarative_base\n"
   ]
  },
  {
   "cell_type": "code",
   "execution_count": 3,
   "metadata": {},
   "outputs": [],
   "source": [
    "measurements_df = pd.read_csv(\"Resources/clean_measurements.csv\")\n",
    "stations_df = pd.read_csv(\"Resources/clean_stations.csv\")"
   ]
  },
  {
   "cell_type": "code",
   "execution_count": 4,
   "metadata": {},
   "outputs": [],
   "source": [
    "measurements_df.head();"
   ]
  },
  {
   "cell_type": "code",
   "execution_count": 5,
   "metadata": {},
   "outputs": [],
   "source": [
    "stations_df;"
   ]
  },
  {
   "cell_type": "code",
   "execution_count": 6,
   "metadata": {},
   "outputs": [],
   "source": [
    "# Create Database Connection\n",
    "Base = declarative_base()\n",
    "engine = create_engine(\"sqlite:///Resources/hawaii.sqlite\", echo=False)\n",
    "conn = engine.connect()\n",
    "# Base.metadata.create_all(conn)"
   ]
  },
  {
   "cell_type": "code",
   "execution_count": 7,
   "metadata": {},
   "outputs": [],
   "source": [
    "class Measurements(Base):\n",
    "  __tablename__ = \"measurements\"\n",
    "  id = Column(Integer, primary_key=True)\n",
    "  station = Column(String)\n",
    "  date = Column(String)  \n",
    "  prcp = Column(Float)\n",
    "  tobs = Column(Integer)\n",
    "\n",
    "class Stations(Base):\n",
    "  __tablename__ = \"stations\"\n",
    "#   id = Column(Integer, primary_key=True)\n",
    "  station = Column(String, primary_key=True)\n",
    "  name = Column(String)\n",
    "  latitude = Column(Float)\n",
    "  longitude = Column(Float)\n",
    "  elevation = Column(Float)   "
   ]
  },
  {
   "cell_type": "code",
   "execution_count": 8,
   "metadata": {},
   "outputs": [],
   "source": [
    "Base.metadata.create_all(conn)"
   ]
  },
  {
   "cell_type": "code",
   "execution_count": 9,
   "metadata": {},
   "outputs": [],
   "source": [
    "# measurement_dtype = {'station': String(255),\n",
    "#                      'date': String(255), \n",
    "#                      'prcp': Float, \n",
    "#                      'tobs': Float}\n",
    "\n",
    "measurements_df.to_sql(Measurements.__tablename__, conn, if_exists=\"append\", index=False)\n"
   ]
  },
  {
   "cell_type": "code",
   "execution_count": 10,
   "metadata": {},
   "outputs": [],
   "source": [
    "# station_dtype = {'station': String(255),\n",
    "#                      'date': String(255), \n",
    "#                      'prcp': Float, \n",
    "#                      'tobs': Float}\n",
    "stations_df.to_sql(Stations.__tablename__, conn, if_exists=\"append\", index=False)"
   ]
  },
  {
   "cell_type": "code",
   "execution_count": 11,
   "metadata": {},
   "outputs": [],
   "source": [
    "# help(stations_df.to_sql)"
   ]
  },
  {
   "cell_type": "code",
   "execution_count": null,
   "metadata": {},
   "outputs": [],
   "source": []
  }
 ],
 "metadata": {
  "kernelspec": {
   "display_name": "Python [default]",
   "language": "python",
   "name": "python3"
  },
  "language_info": {
   "codemirror_mode": {
    "name": "ipython",
    "version": 3
   },
   "file_extension": ".py",
   "mimetype": "text/x-python",
   "name": "python",
   "nbconvert_exporter": "python",
   "pygments_lexer": "ipython3",
   "version": "3.6.4"
  }
 },
 "nbformat": 4,
 "nbformat_minor": 2
}
